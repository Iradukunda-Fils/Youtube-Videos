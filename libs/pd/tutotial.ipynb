{
 "cells": [
  {
   "cell_type": "markdown",
   "id": "3a072280-c00d-413e-9a24-5d1528dae0ae",
   "metadata": {},
   "source": [
    "<h1>Pandas toutorial</h1>"
   ]
  },
  {
   "cell_type": "code",
   "execution_count": 29,
   "id": "3df1bd06-e611-41ea-b3ad-e2202dc3ea10",
   "metadata": {},
   "outputs": [],
   "source": [
    "import pandas as pd\n",
    "import numpy as np"
   ]
  },
  {
   "cell_type": "code",
   "execution_count": 185,
   "id": "06ea0053-5e12-4d88-8efe-2bd9ac128c12",
   "metadata": {},
   "outputs": [],
   "source": [
    "df = pd.read_csv(\"./employees.csv\")\n",
    "# df[:4]"
   ]
  },
  {
   "cell_type": "code",
   "execution_count": 182,
   "id": "2a767266-7565-4777-b85e-56588646006b",
   "metadata": {},
   "outputs": [],
   "source": [
    "# df.iloc[0, 4]\n",
    "# df.loc[\"Yara Cyan Opal\" , [\"Department\", \"Salary\"]]"
   ]
  },
  {
   "cell_type": "code",
   "execution_count": 193,
   "id": "2a55ebcf-fbf0-4a6a-849f-a441f123c000",
   "metadata": {},
   "outputs": [],
   "source": [
    "df.fillna({\"Full Name\": \"John Doe\", \"Gender\": \"Male\"}, inplace=True)\n",
    "# df[:10]\n",
    "df.to_csv(\"./data.csv\", mode=\"w\", header=True, index=False)"
   ]
  },
  {
   "cell_type": "code",
   "execution_count": null,
   "id": "60bf8501-d0c7-462e-9c2b-c31fabc04e46",
   "metadata": {},
   "outputs": [],
   "source": []
  }
 ],
 "metadata": {
  "kernelspec": {
   "display_name": "Python 3 (ipykernel)",
   "language": "python",
   "name": "python3"
  },
  "language_info": {
   "codemirror_mode": {
    "name": "ipython",
    "version": 3
   },
   "file_extension": ".py",
   "mimetype": "text/x-python",
   "name": "python",
   "nbconvert_exporter": "python",
   "pygments_lexer": "ipython3",
   "version": "3.13.3"
  }
 },
 "nbformat": 4,
 "nbformat_minor": 5
}
