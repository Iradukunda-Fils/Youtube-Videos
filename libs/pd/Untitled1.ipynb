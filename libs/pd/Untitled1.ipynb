{
 "cells": [
  {
   "cell_type": "markdown",
   "id": "bb6e1467-4af6-4293-9624-073411ff4d41",
   "metadata": {},
   "source": [
    "<h1>This is pandas toutorial</h1>"
   ]
  },
  {
   "cell_type": "code",
   "execution_count": null,
   "id": "a2445078-3ef5-4b79-9860-3b7d6803ce30",
   "metadata": {},
   "outputs": [],
   "source": [
    "import pandas as pd \n",
    "import numpy as np\n"
   ]
  },
  {
   "cell_type": "code",
   "execution_count": 1,
   "id": "b80479e3-689d-434d-bf7a-03a753e4912a",
   "metadata": {},
   "outputs": [
    {
     "name": "stdout",
     "output_type": "stream",
     "text": [
      "hello, World\n"
     ]
    }
   ],
   "source": [
    "print(\"hello, World\")"
   ]
  },
  {
   "cell_type": "code",
   "execution_count": null,
   "id": "bd51cd47-4cd5-4c83-867e-faab5793444a",
   "metadata": {},
   "outputs": [],
   "source": [
    "series = "
   ]
  }
 ],
 "metadata": {
  "kernelspec": {
   "display_name": "Python 3 (ipykernel)",
   "language": "python",
   "name": "python3"
  },
  "language_info": {
   "codemirror_mode": {
    "name": "ipython",
    "version": 3
   },
   "file_extension": ".py",
   "mimetype": "text/x-python",
   "name": "python",
   "nbconvert_exporter": "python",
   "pygments_lexer": "ipython3",
   "version": "3.13.3"
  }
 },
 "nbformat": 4,
 "nbformat_minor": 5
}
