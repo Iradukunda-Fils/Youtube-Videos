{
 "cells": [
  {
   "cell_type": "markdown",
   "id": "bb6e1467-4af6-4293-9624-073411ff4d41",
   "metadata": {},
   "source": [
    "<h1>This is pandas toutorial</h1>"
   ]
  },
  {
   "cell_type": "code",
   "execution_count": null,
   "id": "a2445078-3ef5-4b79-9860-3b7d6803ce30",
   "metadata": {},
   "outputs": [],
   "source": [
    "import pandas as pd \n",
    "import numpy "
   ]
  }
 ],
 "metadata": {
  "kernelspec": {
   "display_name": "Python 3 (ipykernel)",
   "language": "python",
   "name": "python3"
  },
  "language_info": {
   "codemirror_mode": {
    "name": "ipython",
    "version": 3
   },
   "file_extension": ".py",
   "mimetype": "text/x-python",
   "name": "python",
   "nbconvert_exporter": "python",
   "pygments_lexer": "ipython3",
   "version": "3.13.3"
  }
 },
 "nbformat": 4,
 "nbformat_minor": 5
}
